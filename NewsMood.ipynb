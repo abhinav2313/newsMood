{
 "cells": [
  {
   "cell_type": "code",
   "execution_count": null,
   "metadata": {},
   "outputs": [],
   "source": [
    "# Import and Initialize Sentiment Analyzer\n",
    "from vaderSentiment.vaderSentiment import SentimentIntensityAnalyzer\n",
    "analyzer = SentimentIntensityAnalyzer()\n",
    "# Dependencies\n",
    "import tweepy\n",
    "import json\n",
    "import matplotlib.pyplot as plt\n",
    "import numpy as np\n",
    "import pandas as pd\n",
    "from config import (consumer_key, consumer_secret, \n",
    "                    access_token, access_token_secret)\n",
    "#This is cookie cutter code\n",
    "# Setup Tweepy API Authentication\n",
    "auth = tweepy.OAuthHandler(consumer_key, consumer_secret)\n",
    "auth.set_access_token(access_token, access_token_secret)\n",
    "api = tweepy.API(auth, parser=tweepy.parsers.JSONParser())\n",
    "    \n",
    "# Target Search Term\n",
    "target_handlers = (\"@CNN\", \"@BBCWorld\", \"@CBSNews\",\n",
    "                \"@FoxNews\", \"@nytimes\")\n",
    "total_tweets = []\n",
    "sentiment_results = []\n",
    "sentiment_dict = {}\n",
    "# Create a loop to iteratively run API requests\n",
    "for handler in target_handlers:\n",
    "    for x in range(5):\n",
    "        public_tweets = api.user_timeline(handler,page=x)\n",
    "        for tweet in public_tweets:\n",
    "            results = analyzer.polarity_scores(tweet[\"text\"])\n",
    "            compound = results[\"compound\"]\n",
    "            pos = results[\"pos\"]\n",
    "            neu = results[\"neu\"]\n",
    "            neg = results[\"neg\"]\n",
    "            sentiment_results.append(compound)\n",
    "    sentiment_dict[handler] = sentiment_results\n",
    "    sentiment_results=[]\n",
    "print(sentiment_dict)\n"
   ]
  },
  {
   "cell_type": "code",
   "execution_count": null,
   "metadata": {},
   "outputs": [],
   "source": [
    "#Now plotting the result\n",
    "# List of values from 100 to 1 each value being 1 greater than the last\n",
    "df = pd.DataFrame(sentiment_dict)\n",
    "df[\"x\"]=np.arange(100, 0, -1)\n",
    "plt.rcParams[\"figure.figsize\"] = (10,10)\n",
    "x=np.arange(100, 0, -1)\n",
    "colors = ['b', 'r', 'g', 'y', 'k']\n",
    "ax = df.plot(kind=\"scatter\", x=\"x\",y=\"@CNN\", edgecolor='black', color=\"b\", s=120, linewidth='1' , label=\"CNN\")\n",
    "def plottingGraph(handler, plot_color):\n",
    "    df.plot(kind=\"scatter\", x=\"x\",y=handler, edgecolor='black', linewidth='1', s=120, color=plot_color, label=handler.split('@')[1], ax=ax)\n",
    "for idx, val in enumerate(target_handlers):\n",
    "    if(val != '@CNN'):\n",
    "        plottingGraph(val, colors[idx])    \n",
    "ax.set_xlabel(\"Tweets ago\")\n",
    "ax.set_ylabel(\"Tweet Polarity\")\n",
    "plt.savefig('All Tweets polarity.png')\n",
    "plt.show()\n",
    "overall_sentiment=[]\n",
    "handlers_in_df=[]\n",
    "for handler in target_handlers:\n",
    "    overall_sentiment.append(df[handler].sum())\n",
    "    handlers_in_df.append(handler.split('@')[1])\n",
    "print(overall_sentiment)\n",
    "handlerList = np.arange(1,6,1)\n",
    "plt_bars = plt.bar(handlerList, overall_sentiment, color='r', alpha=0.5, align=\"edge\")\n",
    "def setBarColors(idx,color):\n",
    "    plt_bars[idx].set_color(color)\n",
    "for idx,val in enumerate(plt_bars):\n",
    "    setBarColors(idx,colors[idx])\n",
    "plt.xticks(handlerList, handlers_in_df)\n",
    "plt.ylabel(\"Tweet Polarity\")\n",
    "plt.savefig('Overall polarity.png')\n",
    "plt.show()\n"
   ]
  },
  {
   "cell_type": "code",
   "execution_count": null,
   "metadata": {
    "collapsed": true
   },
   "outputs": [],
   "source": [
    "test = [0.0258, 0.6369, -0.34, 0.807, 0.25, -0.5106, -0.4588, -0.296, 0.0, 0.0, -0.296, -0.6597, 0.2732, 0.4404, 0.0, 0.0, 0.0, 0.1779, -0.4588, 0.4939, 0.0258, 0.6369, -0.34, 0.807, 0.25, -0.5106, -0.4588, -0.296, 0.0, 0.0, -0.296, -0.6597, 0.2732, 0.4404, 0.0, 0.0, 0.0, 0.1779, -0.4588, 0.4939, 0.5413, 0.6666, 0.2023, -0.8225, -0.8225, 0.0, 0.0, 0.0, 0.5204, -0.8779, 0.0, 0.3612, 0.0, 0.0, 0.5859, 0.0, 0.0, 0.4404, 0.5563, 0.0, 0.0, 0.1779, -0.1027, -0.5106, -0.4588, -0.6115, 0.1531, 0.0, 0.3612, 0.3612, 0.4939, 0.4341, 0.6115, 0.4404, -0.7964, -0.4588, 0.0, 0.3182, 0.6124, 0.4588, 0.296, -0.0572, 0.0, 0.0, 0.3612, 0.1531, 0.4019, 0.0, 0.0, -0.8225, -0.6486, 0.0, 0.296, 0.0, 0.5859, 0.3182, -0.128, 0.0, 0.296, 0.4215]\n"
   ]
  },
  {
   "cell_type": "code",
   "execution_count": null,
   "metadata": {},
   "outputs": [],
   "source": [
    "total = 0\n",
    "for co in test:\n",
    "    total=total+co\n",
    "print(total)"
   ]
  },
  {
   "cell_type": "code",
   "execution_count": null,
   "metadata": {
    "collapsed": true
   },
   "outputs": [],
   "source": []
  }
 ],
 "metadata": {
  "kernelspec": {
   "display_name": "Python 3",
   "language": "python",
   "name": "python3"
  },
  "language_info": {
   "codemirror_mode": {
    "name": "ipython",
    "version": 3
   },
   "file_extension": ".py",
   "mimetype": "text/x-python",
   "name": "python",
   "nbconvert_exporter": "python",
   "pygments_lexer": "ipython3",
   "version": "3.6.1"
  }
 },
 "nbformat": 4,
 "nbformat_minor": 2
}
